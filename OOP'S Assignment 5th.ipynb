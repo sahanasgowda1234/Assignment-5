{
 "cells": [
  {
   "cell_type": "code",
   "execution_count": 1,
   "id": "da13efb1",
   "metadata": {},
   "outputs": [
    {
     "name": "stdout",
     "output_type": "stream",
     "text": [
      "Enter base number :- 10\n",
      "Enter power number :- 2\n",
      "The Expected output = 100\n"
     ]
    }
   ],
   "source": [
    "#Write a Python class to implement pow(x, n)\n",
    "\n",
    "#Sample Input:\n",
    "#x: 10\n",
    "#n: 2\n",
    "from ast import literal_eval\n",
    "class Power:\n",
    "    def __init__(self, x, n ):    \n",
    "        self.x = x\n",
    "        self.n = n\n",
    "        \n",
    "    def power_number(self): # using pow(base, exponent) power function\n",
    "        res = pow(self.x, self.n)\n",
    "        return res\n",
    "    \n",
    "x = literal_eval(input(\"Enter base number :- \")) # using literal_eval with input to take input from user\n",
    "n = literal_eval(input(\"Enter power number :- \"))          \n",
    "obj1 = Power(x,n)\n",
    "print(\"The Expected output =\", obj1.power_number())          \n"
   ]
  },
  {
   "cell_type": "code",
   "execution_count": null,
   "id": "4b352037",
   "metadata": {},
   "outputs": [],
   "source": []
  }
 ],
 "metadata": {
  "kernelspec": {
   "display_name": "Python 3 (ipykernel)",
   "language": "python",
   "name": "python3"
  },
  "language_info": {
   "codemirror_mode": {
    "name": "ipython",
    "version": 3
   },
   "file_extension": ".py",
   "mimetype": "text/x-python",
   "name": "python",
   "nbconvert_exporter": "python",
   "pygments_lexer": "ipython3",
   "version": "3.9.12"
  }
 },
 "nbformat": 4,
 "nbformat_minor": 5
}
